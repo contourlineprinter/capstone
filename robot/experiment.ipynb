{
 "cells": [
  {
   "cell_type": "code",
   "execution_count": 23,
   "metadata": {},
   "outputs": [],
   "source": [
    "-"
   ]
  },
  {
   "cell_type": "code",
   "execution_count": 24,
   "metadata": {},
   "outputs": [
    {
     "name": "stdout",
     "output_type": "stream",
     "text": [
      "<?xml version=\"1.0\" encoding=\"utf-8\"?>\n",
      "<!DOCTYPE html>\n",
      "<html>\n",
      "<body>\n",
      "<svg height=\"210\" width=\"500\">\n",
      "<line style=\"stroke:rgb(255,0,0);\" x1=\"0\" x2=\"0\" y1=\"0\" y2=\"50\"/>\n",
      "<line style=\"stroke:rgb(255,0,0);\" x1=\"0\" x2=\"25\" y1=\"50\" y2=\"50\"/>\n",
      "<line style=\"stroke:rgb(255,0,0);\" x1=\"25\" x2=\"25\" y1=\"50\" y2=\"0\"/>\n",
      "<line style=\"stroke:rgb(255,0,0);\" x1=\"25\" x2=\"0\" y1=\"0\" y2=\"0\"/>\n",
      "  Sorry, your browser does not support inline SVG.\n",
      "</svg>\n",
      "</body>\n",
      "</html>\n",
      "moving from ( 0 , 0 ) to ( 0 , 50 )\n",
      "in get_theta @ ( 0 , 0 ) going to ( 0 , 50 )\n",
      "arctan( 50 / 0 = 90.0\n",
      "theta = 90.0 distance = 50.0 state = 0.0 0.0 0.0 target = 0 50\n",
      "moving from ( 0 , 50 ) to ( 25 , 50 )\n",
      "in get_theta @ ( 0 , 50 ) going to ( 25 , 50 )\n",
      "arctan( 0 / 25 = 0.0\n",
      "theta = -90.0 distance = 25.0 state = 0 50 90.0 target = 25 50\n",
      "moving from ( 25 , 50 ) to ( 25 , 0 )\n",
      "in get_theta @ ( 25 , 50 ) going to ( 25 , 0 )\n",
      "arctan( -50 / 0 = -90.0\n",
      "theta = -90.0 distance = 50.0 state = 25 50 0.0 target = 25 0\n",
      "moving from ( 25 , 0 ) to ( 0 , 0 )\n",
      "in get_theta @ ( 25 , 0 ) going to ( 0 , 0 )\n",
      "arctan( 0 / -25 = 180.0\n",
      "theta = 270.0 distance = 25.0 state = 25 0 -90.0 target = 0 0\n"
     ]
    }
   ],
   "source": [
    "main('square_test.svg')"
   ]
  },
  {
   "cell_type": "code",
   "execution_count": null,
   "metadata": {
    "collapsed": true
   },
   "outputs": [],
   "source": []
  }
 ],
 "metadata": {
  "kernelspec": {
   "display_name": "Python 3",
   "language": "python",
   "name": "python3"
  },
  "language_info": {
   "codemirror_mode": {
    "name": "ipython",
    "version": 3
   },
   "file_extension": ".py",
   "mimetype": "text/x-python",
   "name": "python",
   "nbconvert_exporter": "python",
   "pygments_lexer": "ipython3",
   "version": "3.6.3"
  }
 },
 "nbformat": 4,
 "nbformat_minor": 2
}
