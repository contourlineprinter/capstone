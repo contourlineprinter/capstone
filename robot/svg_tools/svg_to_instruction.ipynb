{
 "cells": [
  {
   "cell_type": "markdown",
   "metadata": {},
   "source": [
    "# SVG To Instruction\n",
    "\n",
    "#### This Notebook serves as further documentation showing how svg_to_instruction.py works\n"
   ]
  },
  {
   "cell_type": "code",
   "execution_count": 3,
   "metadata": {},
   "outputs": [],
   "source": [
    "from bs4 import BeautifulSoup as bs # This is my personal favorite library for HTML and XML in Python\n",
    "import re\n",
    "import math\n",
    "import time\n",
    "import sys"
   ]
  },
  {
   "cell_type": "markdown",
   "metadata": {},
   "source": [
    "An .svg file is a file that contains"
   ]
  },
  {
   "cell_type": "code",
   "execution_count": 14,
   "metadata": {},
   "outputs": [
    {
     "ename": "IndentationError",
     "evalue": "expected an indented block (<ipython-input-14-8005721cb71f>, line 13)",
     "output_type": "error",
     "traceback": [
      "\u001b[0;36m  File \u001b[0;32m\"<ipython-input-14-8005721cb71f>\"\u001b[0;36m, line \u001b[0;32m13\u001b[0m\n\u001b[0;31m    raise e\u001b[0m\n\u001b[0m    ^\u001b[0m\n\u001b[0;31mIndentationError\u001b[0m\u001b[0;31m:\u001b[0m expected an indented block\n"
     ]
    }
   ],
   "source": [
    "def svg_to_lines(file_path):\n",
    "    '''\n",
    "    This method takes one parameter, an xml file_path. \n",
    "    It returns and list of a four element tuple containing two xy pair points, like below\n",
    "    [(x1,y1,x2,y2),(x1,y1,x2,y2),(x1,y1,x2,y2)]\n",
    "    '''\n",
    "    #load file_name and get svg tag\n",
    "    with open(file_path) as fp:\n",
    "        try:\n",
    "            soup = bs(f, 'xml')\n",
    "        except FileNotFoundError as e:\n",
    "\n",
    "    raise e\n",
    "        \n",
    "    svg = soup.svg\n",
    "    lines=[]\n",
    "\n",
    "    # find each line in the svg and make a list of each\n",
    "    try:\n",
    "        for line in svg.find_all('line'):\n",
    "            x1 = int(line.get('x1'))\n",
    "            y1 = int(line.get('y1'))\n",
    "            x2 = int(line.get('x2'))\n",
    "            y2 = int(line.get('y2'))\n",
    "        \n",
    "            lines.append((x1,y1,x2,y2))\n",
    "    except AttributeError as e:\n",
    "        print(svg)\n",
    "        raise e\n",
    "        \n",
    "    return lines"
   ]
  },
  {
   "cell_type": "code",
   "execution_count": 13,
   "metadata": {},
   "outputs": [
    {
     "ename": "AttributeError",
     "evalue": "__enter__",
     "output_type": "error",
     "traceback": [
      "\u001b[0;31m---------------------------------------------------------------------------\u001b[0m",
      "\u001b[0;31mAttributeError\u001b[0m                            Traceback (most recent call last)",
      "\u001b[0;32m<ipython-input-13-a7769d3d7b34>\u001b[0m in \u001b[0;36m<module>\u001b[0;34m()\u001b[0m\n\u001b[0;32m----> 1\u001b[0;31m \u001b[0msvg_to_lines\u001b[0m\u001b[0;34m(\u001b[0m\u001b[0;34m'../square_test.svg'\u001b[0m\u001b[0;34m)\u001b[0m\u001b[0;34m\u001b[0m\u001b[0m\n\u001b[0m",
      "\u001b[0;32m<ipython-input-12-c37606d5444b>\u001b[0m in \u001b[0;36msvg_to_lines\u001b[0;34m(file_name)\u001b[0m\n\u001b[1;32m      6\u001b[0m     '''\n\u001b[1;32m      7\u001b[0m     \u001b[0;31m#load file_name and get svg tag\u001b[0m\u001b[0;34m\u001b[0m\u001b[0;34m\u001b[0m\u001b[0m\n\u001b[0;32m----> 8\u001b[0;31m     \u001b[0;32mwith\u001b[0m \u001b[0mbs\u001b[0m\u001b[0;34m(\u001b[0m\u001b[0mopen\u001b[0m\u001b[0;34m(\u001b[0m\u001b[0mfile_name\u001b[0m\u001b[0;34m)\u001b[0m\u001b[0;34m,\u001b[0m \u001b[0;34m'xml'\u001b[0m\u001b[0;34m)\u001b[0m \u001b[0;32mas\u001b[0m \u001b[0msoup\u001b[0m\u001b[0;34m:\u001b[0m\u001b[0;34m\u001b[0m\u001b[0m\n\u001b[0m\u001b[1;32m      9\u001b[0m     \u001b[0;31m#try:\u001b[0m\u001b[0;34m\u001b[0m\u001b[0;34m\u001b[0m\u001b[0m\n\u001b[1;32m     10\u001b[0m     \u001b[0;31m#    soup = bs(open(file_name), 'xml')\u001b[0m\u001b[0;34m\u001b[0m\u001b[0;34m\u001b[0m\u001b[0m\n",
      "\u001b[0;31mAttributeError\u001b[0m: __enter__"
     ]
    }
   ],
   "source": [
    "svg_to_lines('../square_test.svg')"
   ]
  },
  {
   "cell_type": "code",
   "execution_count": null,
   "metadata": {
    "collapsed": true
   },
   "outputs": [],
   "source": []
  }
 ],
 "metadata": {
  "kernelspec": {
   "display_name": "Python 3",
   "language": "python",
   "name": "python3"
  },
  "language_info": {
   "codemirror_mode": {
    "name": "ipython",
    "version": 3
   },
   "file_extension": ".py",
   "mimetype": "text/x-python",
   "name": "python",
   "nbconvert_exporter": "python",
   "pygments_lexer": "ipython3",
   "version": "3.6.3"
  }
 },
 "nbformat": 4,
 "nbformat_minor": 2
}
